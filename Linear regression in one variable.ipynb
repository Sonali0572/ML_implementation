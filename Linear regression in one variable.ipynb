{
 "cells": [
  {
   "cell_type": "markdown",
   "metadata": {},
   "source": [
    "<h3>import the required library</h3>"
   ]
  },
  {
   "cell_type": "code",
   "execution_count": null,
   "metadata": {},
   "outputs": [],
   "source": [
    "import numpy as np\n",
    "import matplotlib.pyplot as plt"
   ]
  },
  {
   "cell_type": "markdown",
   "metadata": {},
   "source": [
    "<h3>define all the required functions</h3>"
   ]
  },
  {
   "cell_type": "markdown",
   "metadata": {},
   "source": [
    "<h4>to get and convert the data into a matrix</h4>"
   ]
  },
  {
   "cell_type": "code",
   "execution_count": 2,
   "metadata": {},
   "outputs": [],
   "source": [
    "def loadData(fln):\n",
    "    print(fln)\n",
    "    data=np.matrix(np.loadtxt(fln))\n",
    "    return (data[:,1:3],data[:,3])"
   ]
  },
  {
   "cell_type": "markdown",
   "metadata": {},
   "source": [
    "<h4>now, we need to calculate the error, for which we need to define cost function</h4>"
   ]
  },
  {
   "cell_type": "code",
   "execution_count": 3,
   "metadata": {},
   "outputs": [],
   "source": [
    "def Cost(theta,x,y):\n",
    "    m=np.size(x)\n",
    "    h=np.matmul(x,theta)\n",
    "    return np.sum(np.power((np.subtract(h,y)),2))/(2*m)"
   ]
  },
  {
   "cell_type": "markdown",
   "metadata": {},
   "source": [
    "<h4>In order to minimize the error, we have to define gradient descent function</h4>"
   ]
  },
  {
   "cell_type": "code",
   "execution_count": 8,
   "metadata": {},
   "outputs": [],
   "source": [
    "def gradientdescent(theta,x,y,iter,alpha):\n",
    "    m = np.size(x)\n",
    "    h = np.matmul(x,theta)\n",
    "    c1 = Cost(theta,x,y)\n",
    "    for i in range(0,iter):\n",
    "        temp=(np.matmul(x.T,(np.subtract(h,y))))*(alpha/m)\n",
    "        c2 = Cost((theta - temp),x,y)\n",
    "        if c2 < c1:\n",
    "            c1 = c2\n",
    "            theta = theta - temp\n",
    "        else:\n",
    "            break\n",
    "    return theta"
   ]
  },
  {
   "cell_type": "markdown",
   "metadata": {},
   "source": [
    "<h3>Now that we have defined all the functions, we can start with the execution part</h3>"
   ]
  },
  {
   "cell_type": "code",
   "execution_count": 20,
   "metadata": {},
   "outputs": [
    {
     "name": "stdout",
     "output_type": "stream",
     "text": [
      "Documents/Python Scripts/WEEK1.txt\n"
     ]
    }
   ],
   "source": [
    "X,Y = loadData(r\"Documents/Python Scripts/WEEK1.txt\")\n",
    "m = np.size(Y)\n",
    "t = X"
   ]
  },
  {
   "cell_type": "code",
   "execution_count": 21,
   "metadata": {},
   "outputs": [
    {
     "name": "stdout",
     "output_type": "stream",
     "text": [
      "[[ 1. 39.]\n",
      " [ 1. 47.]\n",
      " [ 1. 45.]\n",
      " [ 1. 47.]\n",
      " [ 1. 65.]\n",
      " [ 1. 46.]\n",
      " [ 1. 67.]\n",
      " [ 1. 42.]\n",
      " [ 1. 67.]\n",
      " [ 1. 56.]\n",
      " [ 1. 64.]\n",
      " [ 1. 56.]\n",
      " [ 1. 59.]\n",
      " [ 1. 34.]\n",
      " [ 1. 42.]\n",
      " [ 1. 48.]\n",
      " [ 1. 45.]\n",
      " [ 1. 17.]\n",
      " [ 1. 20.]\n",
      " [ 1. 19.]\n",
      " [ 1. 36.]\n",
      " [ 1. 50.]\n",
      " [ 1. 39.]\n",
      " [ 1. 21.]\n",
      " [ 1. 44.]\n",
      " [ 1. 53.]\n",
      " [ 1. 63.]\n",
      " [ 1. 29.]\n",
      " [ 1. 25.]\n",
      " [ 1. 69.]]\n",
      "[[144.]\n",
      " [220.]\n",
      " [138.]\n",
      " [145.]\n",
      " [162.]\n",
      " [142.]\n",
      " [170.]\n",
      " [124.]\n",
      " [158.]\n",
      " [154.]\n",
      " [162.]\n",
      " [150.]\n",
      " [140.]\n",
      " [110.]\n",
      " [128.]\n",
      " [130.]\n",
      " [135.]\n",
      " [114.]\n",
      " [116.]\n",
      " [124.]\n",
      " [136.]\n",
      " [142.]\n",
      " [120.]\n",
      " [120.]\n",
      " [160.]\n",
      " [158.]\n",
      " [144.]\n",
      " [130.]\n",
      " [125.]\n",
      " [175.]]\n"
     ]
    },
    {
     "data": {
      "text/plain": [
       "(30, 2)"
      ]
     },
     "execution_count": 21,
     "metadata": {},
     "output_type": "execute_result"
    }
   ],
   "source": [
    "print(X)\n",
    "print(Y)\n",
    "np.shape(X)"
   ]
  },
  {
   "cell_type": "markdown",
   "metadata": {},
   "source": [
    "<h3> Perform the gradient descent algorithm and calculate the final error</h3>"
   ]
  },
  {
   "cell_type": "code",
   "execution_count": 22,
   "metadata": {},
   "outputs": [
    {
     "data": {
      "text/plain": [
       "308.2335090506728"
      ]
     },
     "execution_count": 22,
     "metadata": {},
     "output_type": "execute_result"
    }
   ],
   "source": [
    "theta = np.matrix(np.ones(2).reshape(2,1))\n",
    "theta = gradientdescent(theta, X, Y, 100000, 0.000001)\n",
    "Cost(theta, X, Y)"
   ]
  },
  {
   "cell_type": "markdown",
   "metadata": {},
   "source": [
    "<h3>All we need to do now is to plot the graph</h3>"
   ]
  },
  {
   "cell_type": "code",
   "execution_count": 25,
   "metadata": {},
   "outputs": [
    {
     "name": "stdout",
     "output_type": "stream",
     "text": [
      "[[1.0425606 ]\n",
      " [2.91799373]]\n"
     ]
    },
    {
     "data": {
      "image/png": "[encoded data removed]",
      "text/plain": [
       "<Figure size 432x288 with 1 Axes>"
      ]
     },
     "metadata": {},
     "output_type": "display_data"
    },
    {
     "name": "stdout",
     "output_type": "stream",
     "text": [
      "<function Cost at 0x000001AA2258FC80>\n"
     ]
    }
   ],
   "source": [
    "t=X[:,1]\n",
    "print(theta)\n",
    "plt.scatter(np.array(t),np.array(Y),color='b',marker='x')\n",
    "plt.plot(np.array(t),np.array(np.matmul(X,theta)))\n",
    "plt.show()\n",
    "print(Cost)"
   ]
  }
 ],
 "metadata": {
  "kernelspec": {
   "display_name": "Python 3",
   "language": "python",
   "name": "python3"
  },
  "language_info": {
   "codemirror_mode": {
    "name": "ipython",
    "version": 3
   },
   "file_extension": ".py",
   "mimetype": "text/x-python",
   "name": "python",
   "nbconvert_exporter": "python",
   "pygments_lexer": "ipython3",
   "version": "3.6.5"
  }
 },
 "nbformat": 4,
 "nbformat_minor": 2
}
